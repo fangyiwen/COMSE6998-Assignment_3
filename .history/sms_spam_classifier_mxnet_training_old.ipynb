{
 "cells": [
  {
   "cell_type": "markdown",
   "metadata": {},
   "source": [
    "<h1>SMS Spam Classifier</h1>\n",
    "<br />\n",
    "This notebook shows how to implement a basic spam classifier for SMS messages using Apache MXNet as deep learning framework.\n",
    "The idea is to use the SMS spam collection dataset available at <a href=\"https://archive.ics.uci.edu/ml/datasets/sms+spam+collection\">https://archive.ics.uci.edu/ml/datasets/sms+spam+collection</a> to train and deploy a neural network model by leveraging on the built-in open-source container for Apache MXNet available in Amazon SageMaker."
   ]
  },
  {
   "cell_type": "markdown",
   "metadata": {},
   "source": [
    "Let's get started by setting some configuration variables and getting the Amazon SageMaker session and the current execution role, using the Amazon SageMaker high-level SDK for Python."
   ]
  },
  {
   "cell_type": "code",
   "execution_count": 1,
   "metadata": {},
   "outputs": [
    {
     "name": "stdout",
     "output_type": "stream",
     "text": [
      "arn:aws:iam::640615917264:role/service-role/AmazonSageMaker-ExecutionRole-20210325T235913\n"
     ]
    }
   ],
   "source": [
    "from sagemaker import get_execution_role\n",
    "\n",
    "bucket_name = 'hw3-spam-detection-training'\n",
    "\n",
    "role = get_execution_role()\n",
    "bucket_key_prefix = 'sms-spam-classifier'\n",
    "vocabulary_length = 9013\n",
    "\n",
    "print(role)"
   ]
  },
  {
   "cell_type": "markdown",
   "metadata": {},
   "source": [
    "We now download the spam collection dataset, unzip it and read the first 10 rows."
   ]
  },
  {
   "cell_type": "code",
   "execution_count": 2,
   "metadata": {},
   "outputs": [
    {
     "name": "stdout",
     "output_type": "stream",
     "text": [
      "  % Total    % Received % Xferd  Average Speed   Time    Time     Time  Current\n",
      "                                 Dload  Upload   Total   Spent    Left  Speed\n",
      "100  198k  100  198k    0     0   350k      0 --:--:-- --:--:-- --:--:--  350k\n",
      "Archive:  dataset/smsspamcollection.zip\n",
      "  inflating: dataset/SMSSpamCollection  \n",
      "  inflating: dataset/readme          \n",
      "ham\tGo until jurong point, crazy.. Available only in bugis n great world la e buffet... Cine there got amore wat...\n",
      "ham\tOk lar... Joking wif u oni...\n",
      "spam\tFree entry in 2 a wkly comp to win FA Cup final tkts 21st May 2005. Text FA to 87121 to receive entry question(std txt rate)T&C's apply 08452810075over18's\n",
      "ham\tU dun say so early hor... U c already then say...\n",
      "ham\tNah I don't think he goes to usf, he lives around here though\n",
      "spam\tFreeMsg Hey there darling it's been 3 week's now and no word back! I'd like some fun you up for it still? Tb ok! XxX std chgs to send, £1.50 to rcv\n",
      "ham\tEven my brother is not like to speak with me. They treat me like aids patent.\n",
      "ham\tAs per your request 'Melle Melle (Oru Minnaminunginte Nurungu Vettam)' has been set as your callertune for all Callers. Press *9 to copy your friends Callertune\n",
      "spam\tWINNER!! As a valued network customer you have been selected to receivea £900 prize reward! To claim call 09061701461. Claim code KL341. Valid 12 hours only.\n",
      "spam\tHad your mobile 11 months or more? U R entitled to Update to the latest colour mobiles with camera for Free! Call The Mobile Update Co FREE on 08002986030\n"
     ]
    }
   ],
   "source": [
    "!mkdir -p dataset\n",
    "!curl https://archive.ics.uci.edu/ml/machine-learning-databases/00228/smsspamcollection.zip -o dataset/smsspamcollection.zip\n",
    "!unzip -o dataset/smsspamcollection.zip -d dataset\n",
    "!head -10 dataset/SMSSpamCollection"
   ]
  },
  {
   "cell_type": "markdown",
   "metadata": {},
   "source": [
    "We now load the dataset into a Pandas dataframe and execute some data preparation.\n",
    "More specifically we have to:\n",
    "<ul>\n",
    "    <li>replace the target column values (ham/spam) with numeric values (0/1)</li>\n",
    "    <li>tokenize the sms messages and encode based on word counts</li>\n",
    "    <li>split into train and test sets</li>\n",
    "    <li>upload to a S3 bucket for training</li>\n",
    "</ul>"
   ]
  },
  {
   "cell_type": "code",
   "execution_count": 3,
   "metadata": {},
   "outputs": [],
   "source": [
    "import pandas as pd\n",
    "import numpy as np\n",
    "import pickle\n",
    "from sms_spam_classifier_utilities import one_hot_encode\n",
    "from sms_spam_classifier_utilities import vectorize_sequences\n",
    "\n",
    "df = pd.read_csv('dataset/SMSSpamCollection', sep='\\t', header=None)\n",
    "df[df.columns[0]] = df[df.columns[0]].map({'ham': 0, 'spam': 1})\n",
    "\n",
    "targets = df[df.columns[0]].values\n",
    "messages = df[df.columns[1]].values\n",
    "\n",
    "# one hot encoding for each SMS message\n",
    "one_hot_data = one_hot_encode(messages, vocabulary_length)\n",
    "encoded_messages = vectorize_sequences(one_hot_data, vocabulary_length)\n",
    "\n",
    "df2 = pd.DataFrame(encoded_messages)\n",
    "df2.insert(0, 'spam', targets)\n",
    "\n",
    "# Split into training and validation sets (80%/20% split)\n",
    "split_index = int(np.ceil(df.shape[0] * 0.8))\n",
    "train_set = df2[:split_index]\n",
    "val_set = df2[split_index:]\n",
    "\n",
    "train_set.to_csv('dataset/sms_train_set.gz', header=False, index=False, compression='gzip')\n",
    "val_set.to_csv('dataset/sms_val_set.gz', header=False, index=False, compression='gzip')"
   ]
  },
  {
   "cell_type": "markdown",
   "metadata": {},
   "source": [
    "We have to upload the two files back to Amazon S3 in order to be accessed by the Amazon SageMaker training cluster."
   ]
  },
  {
   "cell_type": "code",
   "execution_count": 4,
   "metadata": {},
   "outputs": [],
   "source": [
    "import boto3\n",
    "\n",
    "s3 = boto3.resource('s3')\n",
    "target_bucket = s3.Bucket(bucket_name)\n",
    "\n",
    "with open('dataset/sms_train_set.gz', 'rb') as data:\n",
    "    target_bucket.upload_fileobj(data, '{0}/train/sms_train_set.gz'.format(bucket_key_prefix))\n",
    "    \n",
    "with open('dataset/sms_val_set.gz', 'rb') as data:\n",
    "    target_bucket.upload_fileobj(data, '{0}/val/sms_val_set.gz'.format(bucket_key_prefix))"
   ]
  },
  {
   "cell_type": "markdown",
   "metadata": {},
   "source": [
    "<h2>Training the model with MXNet</h2>\n",
    "\n",
    "We are now ready to run the training using the Amazon SageMaker MXNet built-in container. First let's have a look at the script defining our neural network."
   ]
  },
  {
   "cell_type": "code",
   "execution_count": 5,
   "metadata": {},
   "outputs": [
    {
     "name": "stdout",
     "output_type": "stream",
     "text": [
      "from __future__ import print_function\n",
      "\n",
      "import logging\n",
      "import mxnet as mx\n",
      "from mxnet import gluon, autograd\n",
      "from mxnet.gluon import nn\n",
      "import numpy as np\n",
      "import json\n",
      "import time\n",
      "\n",
      "import pip\n",
      "\n",
      "try:\n",
      "    from pip import main as pipmain\n",
      "except:\n",
      "    from pip._internal import main as pipmain\n",
      "\n",
      "pipmain(['install', 'pandas'])\n",
      "import pandas\n",
      "\n",
      "#logging.basicConfig(level=logging.DEBUG)\n",
      "\n",
      "# ------------------------------------------------------------ #\n",
      "# Training methods                                             #\n",
      "# ------------------------------------------------------------ #\n",
      "\n",
      "\n",
      "def train(hyperparameters, input_data_config, channel_input_dirs, output_data_dir,\n",
      "          num_gpus, num_cpus, hosts, current_host, **kwargs):\n",
      "    # SageMaker passes num_cpus, num_gpus and other args we can use to tailor training to\n",
      "    # the current container environment, but here we just use simple cpu context.\n",
      "    ctx = mx.cpu()\n",
      "\n",
      "    # retrieve the hyperparameters and apply some defaults in case they are not provided.\n",
      "    batch_size = hyperparameters.get('batch_size', 100)\n",
      "    epochs = hyperparameters.get('epochs', 10)\n",
      "    learning_rate = hyperparameters.get('learning_rate', 0.01)\n",
      "    momentum = hyperparameters.get('momentum', 0.9)\n",
      "    log_interval = hyperparameters.get('log_interval', 200)\n",
      "\n",
      "    train_data_path = channel_input_dirs['train']\n",
      "    val_data_path = channel_input_dirs['val']\n",
      "    train_data = get_train_data(train_data_path, batch_size)\n",
      "    val_data = get_val_data(val_data_path, batch_size)\n",
      "\n",
      "    # define the network\n",
      "    net = define_network()\n",
      "\n",
      "    # Collect all parameters from net and its children, then initialize them.\n",
      "    net.initialize(mx.init.Normal(sigma=1.), ctx=ctx)\n",
      "    \n",
      "    # Trainer is for updating parameters with gradient.\n",
      "    if len(hosts) == 1:\n",
      "        kvstore = 'device' if num_gpus > 0 else 'local'\n",
      "    else:\n",
      "        kvstore = 'dist_device_sync' if num_gpus > 0 else 'dist_sync'\n",
      "\n",
      "    trainer = gluon.Trainer(net.collect_params(), 'sgd',\n",
      "                            {'learning_rate': learning_rate, 'momentum': momentum},\n",
      "                            kvstore=kvstore)\n",
      "    \n",
      "    metric = mx.metric.Accuracy()\n",
      "    loss = gluon.loss.SigmoidBinaryCrossEntropyLoss()\n",
      "\n",
      "    for epoch in range(epochs):\n",
      "        \n",
      "        # reset data iterator and metric at begining of epoch.\n",
      "        metric.reset()\n",
      "        btic = time.time()\n",
      "        for i, (data, label) in enumerate(train_data):\n",
      "            # Copy data to ctx if necessary\n",
      "            data = data.as_in_context(ctx)\n",
      "            label = label.as_in_context(ctx)\n",
      "            \n",
      "            # Start recording computation graph with record() section.\n",
      "            # Recorded graphs can then be differentiated with backward.\n",
      "            with autograd.record():\n",
      "                output = net(data)\n",
      "                L = loss(output, label)\n",
      "            L.backward()\n",
      "\n",
      "            # take a gradient step with batch_size equal to data.shape[0]\n",
      "            trainer.step(data.shape[0])\n",
      "\n",
      "            # update metric at last.\n",
      "            sigmoid_output = output.sigmoid() \n",
      "            prediction = mx.nd.abs(mx.nd.ceil(sigmoid_output - 0.5))\n",
      "            metric.update([label], [prediction])\n",
      "\n",
      "            if i % log_interval == 0 and i > 0:\n",
      "                name, acc = metric.get()\n",
      "                print('[Epoch %d Batch %d] Training: %s=%f, %f samples/s' %\n",
      "                      (epoch, i, name, acc, batch_size / (time.time() - btic)))\n",
      "\n",
      "            btic = time.time()\n",
      "\n",
      "        name, acc = metric.get()\n",
      "        print('[Epoch %d] Training: %s=%f' % (epoch, name, acc))\n",
      "\n",
      "        name, val_acc = test(ctx, net, val_data)\n",
      "        print('[Epoch %d] Validation: %s=%f' % (epoch, name, val_acc))\n",
      "\n",
      "    return net\n",
      "\n",
      "def save(net, model_dir):\n",
      "    y = net(mx.sym.var('data'))\n",
      "    y.save('%s/model.json' % model_dir)\n",
      "    net.collect_params().save('%s/model.params' % model_dir)\n",
      "\n",
      "def define_network():\n",
      "    net = nn.Sequential()\n",
      "    with net.name_scope():\n",
      "        net.add(nn.Dense(64, activation=\"relu\"))\n",
      "        net.add(nn.Dense(1))\n",
      "    return net\n",
      "\n",
      "def get_train_data(data_path, batch_size):\n",
      "    print('Train data path: ' + data_path)\n",
      "    df = pandas.read_csv(data_path + '/sms_train_set.gz')\n",
      "    features = df[df.columns[1:]].values.astype(dtype=np.float32)\n",
      "    labels = df[df.columns[0]].values.reshape((-1, 1)).astype(dtype=np.float32)\n",
      "    \n",
      "    return gluon.data.DataLoader(gluon.data.ArrayDataset(features, labels), batch_size=batch_size, shuffle=True)\n",
      "\n",
      "def get_val_data(data_path, batch_size):\n",
      "    print('Validation data path: ' + data_path)\n",
      "    df = pandas.read_csv(data_path + '/sms_val_set.gz')\n",
      "    features = df[df.columns[1:]].values.astype(dtype=np.float32)\n",
      "    labels = df[df.columns[0]].values.reshape((-1, 1)).astype(dtype=np.float32)\n",
      "    \n",
      "    return gluon.data.DataLoader(gluon.data.ArrayDataset(features, labels), batch_size=batch_size, shuffle=False)\n",
      "\n",
      "def test(ctx, net, val_data):\n",
      "    metric = mx.metric.Accuracy()\n",
      "    for data, label in val_data:\n",
      "        data = data.as_in_context(ctx)\n",
      "        label = label.as_in_context(ctx)\n",
      "        \n",
      "        output = net(data)\n",
      "        sigmoid_output = output.sigmoid() \n",
      "        prediction = mx.nd.abs(mx.nd.ceil(sigmoid_output - 0.5))\n",
      "        \n",
      "        metric.update([label], [prediction])\n",
      "    return metric.get()\n",
      "\n",
      "\n",
      "# ------------------------------------------------------------ #\n",
      "# Hosting methods                                              #\n",
      "# ------------------------------------------------------------ #\n",
      "\n",
      "\n",
      "def model_fn(model_dir):\n",
      "    net = gluon.nn.SymbolBlock(\n",
      "        outputs=mx.sym.load('%s/model.json' % model_dir),\n",
      "        inputs=mx.sym.var('data'))\n",
      "    \n",
      "    net.load_params('%s/model.params' % model_dir, ctx=mx.cpu())\n",
      "\n",
      "    return net\n",
      "\n",
      "def transform_fn(net, data, input_content_type, output_content_type):\n",
      "    try:\n",
      "        parsed = json.loads(data)\n",
      "        nda = mx.nd.array(parsed)\n",
      "        \n",
      "        output = net(nda)\n",
      "        sigmoid_output = output.sigmoid()\n",
      "        prediction = mx.nd.abs(mx.nd.ceil(sigmoid_output - 0.5))\n",
      "        \n",
      "        output_obj = {}\n",
      "        output_obj['predicted_label'] = prediction.asnumpy().tolist()\n",
      "        output_obj['predicted_probability'] = sigmoid_output.asnumpy().tolist()\n",
      "\n",
      "        response_body = json.dumps(output_obj)\n",
      "        return response_body, output_content_type\n",
      "    except Exception as ex:\n",
      "        response_body = '{error: }' + str(ex)\n",
      "        return response_body, output_content_type\n",
      "    "
     ]
    }
   ],
   "source": [
    "!cat 'sms_spam_classifier_mxnet_script.py'"
   ]
  },
  {
   "cell_type": "markdown",
   "metadata": {},
   "source": [
    "We are now ready to run the training using the MXNet estimator object of the SageMaker Python SDK."
   ]
  },
  {
   "cell_type": "code",
   "execution_count": 6,
   "metadata": {},
   "outputs": [
    {
     "name": "stderr",
     "output_type": "stream",
     "text": [
      "INFO:sagemaker:Creating training-job with name: sms-spam-classifier-mxnet-2021-03-26-04-28-58-711\n"
     ]
    },
    {
     "name": "stdout",
     "output_type": "stream",
     "text": [
      "...............\n",
      "\u001b[31m2021-03-26 04:31:19,890 INFO - root - running container entrypoint\u001b[0m\n",
      "\u001b[31m2021-03-26 04:31:19,891 INFO - root - starting train task\u001b[0m\n",
      "\u001b[31m2021-03-26 04:31:19,897 INFO - container_support.training - Training starting\u001b[0m\n",
      "\u001b[31m2021-03-26 04:31:21,041 WARNING - mxnet_container.train - #033[1;33mThis required structure for training scripts will be deprecated with the next major release of MXNet images. The train() function will no longer be required; instead the training script must be able to be run as a standalone script. For more information, see https://github.com/aws/sagemaker-python-sdk/tree/master/src/sagemaker/mxnet#updating-your-mxnet-training-script.#033[1;0m\u001b[0m\n",
      "\u001b[31m2021-03-26 04:31:24,093 INFO - mxnet_container.train - MXNetTrainingEnvironment: {'enable_cloudwatch_metrics': False, 'available_gpus': 0, 'channels': {u'train': {u'TrainingInputMode': u'File', u'RecordWrapperType': u'None', u'S3DistributionType': u'FullyReplicated'}, u'val': {u'TrainingInputMode': u'File', u'RecordWrapperType': u'None', u'S3DistributionType': u'FullyReplicated'}}, '_ps_verbose': 0, 'resource_config': {u'hosts': [u'algo-1'], u'network_interface_name': u'eth0', u'current_host': u'algo-1'}, 'user_script_name': u'sms_spam_classifier_mxnet_script.py', 'input_config_dir': '/opt/ml/input/config', 'channel_dirs': {u'train': u'/opt/ml/input/data/train', u'val': u'/opt/ml/input/data/val'}, 'code_dir': '/opt/ml/code', 'output_data_dir': '/opt/ml/output/data/', 'output_dir': '/opt/ml/output', 'model_dir': '/opt/ml/model', 'hyperparameters': {u'sagemaker_program': u'sms_spam_classifier_mxnet_script.py', u'learning_rate': 0.01, u'batch_size': 100, u'epochs': 20, u'sagemaker_submit_directory': u's3://hw3-spam-detection-training/sms-spam-classifier/code/sms-spam-classifier-mxnet-2021-03-26-04-28-58-711/source/sourcedir.tar.gz', u'sagemaker_region': u'us-east-1', u'sagemaker_enable_cloudwatch_metrics': False, u'sagemaker_job_name': u'sms-spam-classifier-mxnet-2021-03-26-04-28-58-711', u'sagemaker_container_log_level': 20}, 'hosts': [u'algo-1'], 'job_name': 'sms-spam-classifier-mxnet-2021-03-26-04-28-58-711', '_ps_port': 8000, 'user_script_archive': u's3://hw3-spam-detection-training/sms-spam-classifier/code/sms-spam-classifier-mxnet-2021-03-26-04-28-58-711/source/sourcedir.tar.gz', '_scheduler_host': u'algo-1', 'sagemaker_region': u'us-east-1', '_scheduler_ip': '10.0.253.254', 'input_dir': '/opt/ml/input', 'user_requirements_file': None, 'current_host': u'algo-1', 'container_log_level': 20, 'available_cpus': 8, 'base_dir': '/opt/ml'}\u001b[0m\n",
      "\u001b[31mDownloading s3://hw3-spam-detection-training/sms-spam-classifier/code/sms-spam-classifier-mxnet-2021-03-26-04-28-58-711/source/sourcedir.tar.gz to /tmp/script.tar.gz\u001b[0m\n",
      "\u001b[31m2021-03-26 04:31:24,515 INFO - mxnet_container.train - Starting distributed training task\u001b[0m\n",
      "\u001b[31mCollecting pandas\u001b[0m\n",
      "\u001b[31m  Downloading https://files.pythonhosted.org/packages/db/83/7d4008ffc2988066ff37f6a0bb6d7b60822367dcb36ba5e39aa7801fda54/pandas-0.24.2-cp27-cp27mu-manylinux1_x86_64.whl (10.1MB)\u001b[0m\n",
      "\u001b[31mRequirement already satisfied: python-dateutil>=2.5.0 in /usr/local/lib/python2.7/dist-packages (from pandas) (2.7.4)\u001b[0m\n",
      "\u001b[31mRequirement already satisfied: numpy>=1.12.0 in /usr/local/lib/python2.7/dist-packages (from pandas) (1.14.6)\u001b[0m\n",
      "\u001b[31mCollecting pytz>=2011k (from pandas)\n",
      "  Downloading https://files.pythonhosted.org/packages/70/94/784178ca5dd892a98f113cdd923372024dc04b8d40abe77ca76b5fb90ca6/pytz-2021.1-py2.py3-none-any.whl (510kB)\u001b[0m\n",
      "\u001b[31mRequirement already satisfied: six>=1.5 in /usr/local/lib/python2.7/dist-packages (from python-dateutil>=2.5.0->pandas) (1.11.0)\u001b[0m\n",
      "\u001b[31mInstalling collected packages: pytz, pandas\u001b[0m\n",
      "\u001b[31mSuccessfully installed pandas-0.24.2 pytz-2021.1\u001b[0m\n",
      "\u001b[31mYou are using pip version 18.1, however version 20.3.4 is available.\u001b[0m\n",
      "\u001b[31mYou should consider upgrading via the 'pip install --upgrade pip' command.\u001b[0m\n",
      "\u001b[31mTrain data path: /opt/ml/input/data/train\u001b[0m\n",
      "\u001b[31mValidation data path: /opt/ml/input/data/val\u001b[0m\n",
      "\u001b[31m[Epoch 0] Training: accuracy=0.728517\u001b[0m\n",
      "\u001b[31m[Epoch 0] Validation: accuracy=0.771788\u001b[0m\n",
      "\u001b[31m[Epoch 1] Training: accuracy=0.820058\u001b[0m\n",
      "\u001b[31m[Epoch 1] Validation: accuracy=0.830189\u001b[0m\n",
      "\u001b[31m[Epoch 2] Training: accuracy=0.851694\u001b[0m\n",
      "\u001b[31m[Epoch 2] Validation: accuracy=0.858041\u001b[0m\n",
      "\u001b[31m[Epoch 3] Training: accuracy=0.877720\u001b[0m\n",
      "\u001b[31m[Epoch 3] Validation: accuracy=0.860737\u001b[0m\n",
      "\u001b[31m[Epoch 4] Training: accuracy=0.890285\u001b[0m\n",
      "\u001b[31m[Epoch 4] Validation: accuracy=0.873315\u001b[0m\n",
      "\u001b[31m[Epoch 5] Training: accuracy=0.904869\u001b[0m\n",
      "\u001b[31m[Epoch 5] Validation: accuracy=0.865229\u001b[0m\n",
      "\u001b[31m[Epoch 6] Training: accuracy=0.903747\u001b[0m\n",
      "\u001b[31m[Epoch 6] Validation: accuracy=0.895777\u001b[0m\n",
      "\u001b[31m[Epoch 7] Training: accuracy=0.916536\u001b[0m\n",
      "\u001b[31m[Epoch 7] Validation: accuracy=0.899371\u001b[0m\n",
      "\u001b[31m[Epoch 8] Training: accuracy=0.923042\u001b[0m\n",
      "\u001b[31m[Epoch 8] Validation: accuracy=0.910153\u001b[0m\n",
      "\u001b[31m[Epoch 9] Training: accuracy=0.924164\u001b[0m\n",
      "\u001b[31m[Epoch 9] Validation: accuracy=0.915544\u001b[0m\n",
      "\u001b[31m[Epoch 10] Training: accuracy=0.928203\u001b[0m\n",
      "\u001b[31m[Epoch 10] Validation: accuracy=0.901168\u001b[0m\n",
      "\u001b[31m[Epoch 11] Training: accuracy=0.928652\u001b[0m\n",
      "\u001b[31m[Epoch 11] Validation: accuracy=0.921833\u001b[0m\n",
      "\u001b[31m[Epoch 12] Training: accuracy=0.929549\u001b[0m\n",
      "\u001b[31m[Epoch 12] Validation: accuracy=0.919137\u001b[0m\n",
      "\u001b[31m[Epoch 13] Training: accuracy=0.934036\u001b[0m\n",
      "\u001b[31m[Epoch 13] Validation: accuracy=0.924528\u001b[0m\n",
      "\u001b[31m[Epoch 14] Training: accuracy=0.938748\u001b[0m\n",
      "\u001b[31m[Epoch 14] Validation: accuracy=0.932615\u001b[0m\n",
      "\u001b[31m[Epoch 15] Training: accuracy=0.940319\u001b[0m\n",
      "\u001b[31m[Epoch 15] Validation: accuracy=0.926325\u001b[0m\n",
      "\u001b[31m[Epoch 16] Training: accuracy=0.941216\u001b[0m\n",
      "\u001b[31m[Epoch 16] Validation: accuracy=0.931716\u001b[0m\n",
      "\u001b[31m[Epoch 17] Training: accuracy=0.939421\u001b[0m\n",
      "\u001b[31m[Epoch 17] Validation: accuracy=0.929021\u001b[0m\n",
      "\u001b[31m[Epoch 18] Training: accuracy=0.941665\u001b[0m\n",
      "\u001b[31m[Epoch 18] Validation: accuracy=0.931716\u001b[0m\n",
      "\u001b[31m[Epoch 19] Training: accuracy=0.943235\u001b[0m\n",
      "\u001b[31m[Epoch 19] Validation: accuracy=0.928122\u001b[0m\n",
      "===== Job Complete =====\n",
      "Billable seconds: 81\n"
     ]
    }
   ],
   "source": [
    "from sagemaker.mxnet import MXNet\n",
    "\n",
    "output_path = 's3://{0}/{1}/output'.format(bucket_name, bucket_key_prefix)\n",
    "code_location = 's3://{0}/{1}/code'.format(bucket_name, bucket_key_prefix)\n",
    "\n",
    "m = MXNet('sms_spam_classifier_mxnet_script.py',\n",
    "          role=role,\n",
    "          train_instance_count=1,\n",
    "          train_instance_type='ml.c5.2xlarge',\n",
    "          output_path=output_path,\n",
    "          base_job_name='sms-spam-classifier-mxnet',\n",
    "          framework_version=1.2,\n",
    "          code_location = code_location,\n",
    "          hyperparameters={'batch_size': 100,\n",
    "                         'epochs': 20,\n",
    "                         'learning_rate': 0.01})\n",
    "\n",
    "inputs = {'train': 's3://{0}/{1}/train/'.format(bucket_name, bucket_key_prefix),\n",
    " 'val': 's3://{0}/{1}/val/'.format(bucket_name, bucket_key_prefix)}\n",
    "\n",
    "m.fit(inputs)"
   ]
  },
  {
   "cell_type": "markdown",
   "metadata": {},
   "source": [
    "<h3><span style=\"color:red\">THE FOLLOWING STEPS ARE NOT MANDATORY IF YOU PLAN TO DEPLOY TO AWS LAMBDA AND ARE INCLUDED IN THIS NOTEBOOK FOR EDUCATIONAL PURPOSES.</span></h3>"
   ]
  },
  {
   "cell_type": "markdown",
   "metadata": {},
   "source": [
    "<h2>Deploying the model</h2>\n",
    "\n",
    "Let's deploy the trained model to a real-time inference endpoint fully-managed by Amazon SageMaker."
   ]
  },
  {
   "cell_type": "code",
   "execution_count": 7,
   "metadata": {},
   "outputs": [
    {
     "name": "stderr",
     "output_type": "stream",
     "text": [
      "INFO:sagemaker:Creating model with name: sms-spam-classifier-mxnet-2021-03-26-04-28-58-711\n",
      "INFO:sagemaker:Creating endpoint with name sms-spam-classifier-mxnet-2021-03-26-04-28-58-711\n"
     ]
    },
    {
     "name": "stdout",
     "output_type": "stream",
     "text": [
      "---------------------------------------------------------------------------!"
     ]
    }
   ],
   "source": [
    "mxnet_pred = m.deploy(initial_instance_count=1,\n",
    "                      instance_type='ml.m5.large')"
   ]
  },
  {
   "cell_type": "markdown",
   "metadata": {},
   "source": [
    "<h2>Executing Inferences</h2>\n",
    "\n",
    "Now, we can invoke the Amazon SageMaker real-time endpoint to execute some inferences, by providing SMS messages and getting the predicted label (SPAM = 1, HAM = 0) and the related probability."
   ]
  },
  {
   "cell_type": "code",
   "execution_count": 8,
   "metadata": {},
   "outputs": [
    {
     "name": "stdout",
     "output_type": "stream",
     "text": [
      "{'predicted_label': [[1.0]], 'predicted_probability': [[0.9999051094055176]]}\n"
     ]
    }
   ],
   "source": [
    "from sagemaker.mxnet.model import MXNetPredictor\n",
    "from sms_spam_classifier_utilities import one_hot_encode\n",
    "from sms_spam_classifier_utilities import vectorize_sequences\n",
    "\n",
    "# Uncomment the following line to connect to an existing endpoint.\n",
    "# mxnet_pred = MXNetPredictor('<endpoint_name>')\n",
    "\n",
    "test_messages = [\"FreeMsg: Txt: CALL to No: 86888 & claim your reward of 3 hours talk time to use from your phone now! ubscribe6GBP/ mnth inc 3hrs 16 stop?txtStop\"]\n",
    "one_hot_test_messages = one_hot_encode(test_messages, vocabulary_length)\n",
    "encoded_test_messages = vectorize_sequences(one_hot_test_messages, vocabulary_length)\n",
    "\n",
    "result = mxnet_pred.predict(encoded_test_messages)\n",
    "print(result)"
   ]
  },
  {
   "cell_type": "markdown",
   "metadata": {},
   "source": [
    "<h2>Cleaning-up</h2>\n",
    "\n",
    "When done, we can delete the Amazon SageMaker real-time inference endpoint."
   ]
  },
  {
   "cell_type": "code",
   "execution_count": null,
   "metadata": {},
   "outputs": [],
   "source": [
    "mxnet_pred.delete_endpoint()"
   ]
  }
 ],
 "metadata": {
  "kernelspec": {
   "display_name": "conda_mxnet_p36",
   "language": "python",
   "name": "conda_mxnet_p36"
  },
  "language_info": {
   "codemirror_mode": {
    "name": "ipython",
    "version": 3
   },
   "file_extension": ".py",
   "mimetype": "text/x-python",
   "name": "python",
   "nbconvert_exporter": "python",
   "pygments_lexer": "ipython3",
   "version": "3.6.13"
  }
 },
 "nbformat": 4,
 "nbformat_minor": 4
}
